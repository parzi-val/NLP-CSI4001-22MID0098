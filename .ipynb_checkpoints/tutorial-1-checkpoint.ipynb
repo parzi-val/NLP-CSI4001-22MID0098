{
 "cells": [
  {
   "cell_type": "code",
   "execution_count": 2,
   "id": "f4078e2b-d7c0-47a7-98d8-37aa0dc7c94f",
   "metadata": {},
   "outputs": [
    {
     "name": "stdout",
     "output_type": "stream",
     "text": [
      "Python 3.12.4\n"
     ]
    }
   ],
   "source": [
    "!python --version"
   ]
  },
  {
   "cell_type": "code",
   "execution_count": 3,
   "id": "1ab28e49-5477-4823-8239-94ea46508853",
   "metadata": {},
   "outputs": [
    {
     "name": "stdout",
     "output_type": "stream",
     "text": [
      "Requirement already satisfied: nltk in c:\\users\\laksh\\appdata\\local\\programs\\python\\python312\\lib\\site-packages (3.9.1)\n",
      "Requirement already satisfied: click in c:\\users\\laksh\\appdata\\local\\programs\\python\\python312\\lib\\site-packages (from nltk) (8.1.7)\n",
      "Requirement already satisfied: joblib in c:\\users\\laksh\\appdata\\local\\programs\\python\\python312\\lib\\site-packages (from nltk) (1.4.2)\n",
      "Requirement already satisfied: regex>=2021.8.3 in c:\\users\\laksh\\appdata\\local\\programs\\python\\python312\\lib\\site-packages (from nltk) (2023.10.3)\n",
      "Requirement already satisfied: tqdm in c:\\users\\laksh\\appdata\\local\\programs\\python\\python312\\lib\\site-packages (from nltk) (4.66.2)\n",
      "Requirement already satisfied: colorama in c:\\users\\laksh\\appdata\\local\\programs\\python\\python312\\lib\\site-packages (from click->nltk) (0.4.6)\n"
     ]
    },
    {
     "name": "stderr",
     "output_type": "stream",
     "text": [
      "DEPRECATION: Loading egg at c:\\users\\laksh\\appdata\\local\\programs\\python\\python312\\lib\\site-packages\\vboxapi-1.0-py3.12.egg is deprecated. pip 25.1 will enforce this behaviour change. A possible replacement is to use pip for package installation. Discussion can be found at https://github.com/pypa/pip/issues/12330\n"
     ]
    }
   ],
   "source": [
    "!pip install nltk"
   ]
  },
  {
   "cell_type": "code",
   "execution_count": 6,
   "id": "7553122a-e749-43d1-a831-160ad00911b2",
   "metadata": {},
   "outputs": [
    {
     "name": "stdout",
     "output_type": "stream",
     "text": [
      "showing info https://raw.githubusercontent.com/nltk/nltk_data/gh-pages/index.xml\n"
     ]
    },
    {
     "data": {
      "text/plain": [
       "True"
      ]
     },
     "execution_count": 6,
     "metadata": {},
     "output_type": "execute_result"
    }
   ],
   "source": [
    "import nltk\n",
    "nltk.download()"
   ]
  },
  {
   "cell_type": "markdown",
   "id": "9219039d-e216-48a3-a7a9-3efc6d3e04f1",
   "metadata": {},
   "source": [
    "Language is the identity of the people.\n",
    "Language is infinite."
   ]
  },
  {
   "cell_type": "code",
   "execution_count": 9,
   "id": "2637ca83-e044-4176-bf5c-e4c2bdd9b058",
   "metadata": {},
   "outputs": [
    {
     "name": "stdout",
     "output_type": "stream",
     "text": [
      "*** Introductory Examples for the NLTK Book ***\n",
      "Loading text1, ..., text9 and sent1, ..., sent9\n",
      "Type the name of the text or sentence to view it.\n",
      "Type: 'texts()' or 'sents()' to list the materials.\n",
      "text1: Moby Dick by Herman Melville 1851\n",
      "text2: Sense and Sensibility by Jane Austen 1811\n",
      "text3: The Book of Genesis\n",
      "text4: Inaugural Address Corpus\n",
      "text5: Chat Corpus\n",
      "text6: Monty Python and the Holy Grail\n",
      "text7: Wall Street Journal\n",
      "text8: Personals Corpus\n",
      "text9: The Man Who Was Thursday by G . K . Chesterton 1908\n"
     ]
    }
   ],
   "source": [
    "from nltk.book import *"
   ]
  },
  {
   "cell_type": "code",
   "execution_count": 1,
   "id": "01f161d2-a06c-4826-90e5-1bcbaf972a43",
   "metadata": {},
   "outputs": [],
   "source": [
    "from nltk.corpus import brown"
   ]
  },
  {
   "cell_type": "markdown",
   "id": "fcb31427-54e3-4ecf-9f0a-331ccf2a5034",
   "metadata": {},
   "source": [
    "Corpus developed by brown university. Over 1 million words."
   ]
  },
  {
   "cell_type": "code",
   "execution_count": 4,
   "id": "36e316d9-977a-407d-8dce-68cd7acc6510",
   "metadata": {},
   "outputs": [
    {
     "data": {
      "text/plain": [
       "['adventure',\n",
       " 'belles_lettres',\n",
       " 'editorial',\n",
       " 'fiction',\n",
       " 'government',\n",
       " 'hobbies',\n",
       " 'humor',\n",
       " 'learned',\n",
       " 'lore',\n",
       " 'mystery',\n",
       " 'news',\n",
       " 'religion',\n",
       " 'reviews',\n",
       " 'romance',\n",
       " 'science_fiction']"
      ]
     },
     "execution_count": 4,
     "metadata": {},
     "output_type": "execute_result"
    }
   ],
   "source": [
    "brown.categories()"
   ]
  },
  {
   "cell_type": "code",
   "execution_count": 5,
   "id": "30e61ad9-21c5-4c6d-91d9-557bb02fb2b5",
   "metadata": {},
   "outputs": [
    {
     "data": {
      "text/plain": [
       "15"
      ]
     },
     "execution_count": 5,
     "metadata": {},
     "output_type": "execute_result"
    }
   ],
   "source": [
    "len(brown.categories())\n",
    "adventure_words = brown.words(categories=\"adventure\")[:50]"
   ]
  },
  {
   "cell_type": "code",
   "execution_count": 26,
   "id": "fca9f5ba-c124-4f1f-b69f-06f77d5c9adb",
   "metadata": {},
   "outputs": [
    {
     "name": "stdout",
     "output_type": "stream",
     "text": [
      "adventure: ['Dan', 'Morgan', 'told', 'himself', 'he', 'would', ...]\n",
      "belles_lettres: ['Northern', 'liberals', 'are', 'the', 'chief', ...]\n",
      "editorial: ['Assembly', 'session', 'brought', 'much', 'good', ...]\n",
      "fiction: ['Thirty-three', 'Scotty', 'did', 'not', 'go', 'back', ...]\n",
      "government: ['The', 'Office', 'of', 'Business', 'Economics', '(', ...]\n",
      "hobbies: ['Too', 'often', 'a', 'beginning', 'bodybuilder', ...]\n",
      "humor: ['It', 'was', 'among', 'these', 'that', 'Hinkle', ...]\n",
      "learned: ['1', '.', 'Introduction', 'It', 'has', 'recently', ...]\n",
      "lore: ['In', 'American', 'romance', ',', 'almost', 'nothing', ...]\n",
      "mystery: ['There', 'were', 'thirty-eight', 'patients', 'on', ...]\n",
      "news: ['The', 'Fulton', 'County', 'Grand', 'Jury', 'said', ...]\n",
      "religion: ['As', 'a', 'result', ',', 'although', 'we', 'still', ...]\n",
      "reviews: ['It', 'is', 'not', 'news', 'that', 'Nathan', ...]\n",
      "romance: ['They', 'neither', 'liked', 'nor', 'disliked', 'the', ...]\n",
      "science_fiction: ['Now', 'that', 'he', 'knew', 'himself', 'to', 'be', ...]\n"
     ]
    }
   ],
   "source": [
    "print(*[f\"{i}: {brown.words(categories=i)}\" for i in brown.categories()],sep=\"\\n\")"
   ]
  },
  {
   "cell_type": "code",
   "execution_count": 29,
   "id": "e5ab1424-bebb-4b19-b679-c907936b0a49",
   "metadata": {},
   "outputs": [
    {
     "data": {
      "text/plain": [
       "59"
      ]
     },
     "execution_count": 29,
     "metadata": {},
     "output_type": "execute_result"
    }
   ],
   "source": [
    "from nltk.corpus import inaugural\n",
    "len(inaugural.fileids())"
   ]
  },
  {
   "cell_type": "markdown",
   "id": "b773967b-31bd-4de0-9ff6-5086d88a1d4c",
   "metadata": {},
   "source": [
    "First presidential address of the corresponding president."
   ]
  },
  {
   "cell_type": "code",
   "execution_count": 31,
   "id": "7607f1e2-0e71-472e-8c1d-82ff16f26e0a",
   "metadata": {},
   "outputs": [
    {
     "data": {
      "text/plain": [
       "['1789-Washington.txt',\n",
       " '1793-Washington.txt',\n",
       " '1797-Adams.txt',\n",
       " '1801-Jefferson.txt',\n",
       " '1805-Jefferson.txt',\n",
       " '1809-Madison.txt',\n",
       " '1813-Madison.txt',\n",
       " '1817-Monroe.txt',\n",
       " '1821-Monroe.txt',\n",
       " '1825-Adams.txt']"
      ]
     },
     "execution_count": 31,
     "metadata": {},
     "output_type": "execute_result"
    }
   ],
   "source": [
    "inaugural.fileids()[:10]"
   ]
  },
  {
   "cell_type": "markdown",
   "id": "d889c902-9663-4712-bb0a-641af0b5f326",
   "metadata": {},
   "source": [
    "Abe lincoln and Obama"
   ]
  },
  {
   "cell_type": "code",
   "execution_count": null,
   "id": "ffe08f82-25d7-4d92-903f-bf6f55584c69",
   "metadata": {},
   "outputs": [],
   "source": []
  }
 ],
 "metadata": {
  "kernelspec": {
   "display_name": "Python 3 (ipykernel)",
   "language": "python",
   "name": "python3"
  },
  "language_info": {
   "codemirror_mode": {
    "name": "ipython",
    "version": 3
   },
   "file_extension": ".py",
   "mimetype": "text/x-python",
   "name": "python",
   "nbconvert_exporter": "python",
   "pygments_lexer": "ipython3",
   "version": "3.12.4"
  }
 },
 "nbformat": 4,
 "nbformat_minor": 5
}
